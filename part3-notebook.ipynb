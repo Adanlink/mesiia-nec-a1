{
 "cells": [
  {
   "metadata": {},
   "cell_type": "markdown",
   "source": [
    "# Step 1: Data preprocessing\n",
    "\n",
    "We will read the CSV files generate by `preprocess_dataset.py`, format the data as appropriate and split the training set into training and validation sets."
   ],
   "id": "86d8f92ace4e255a"
  },
  {
   "metadata": {
    "ExecuteTime": {
     "end_time": "2024-12-08T19:37:02.594133Z",
     "start_time": "2024-12-08T19:37:01.923715Z"
    }
   },
   "cell_type": "code",
   "source": [
    "import pandas as pd\n",
    "import numpy as np\n",
    "\n",
    "# Load training and test data\n",
    "train_data = pd.read_csv('data/train_data.csv')\n",
    "test_data = pd.read_csv('data/test_data.csv')\n",
    "\n",
    "# Define input features (X) and output target (y)\n",
    "X_train = train_data.iloc[:, :-1].values  # All columns except the last (inputs)\n",
    "y_train = train_data.iloc[:, -1].values  # Last column (output)\n",
    "y_train = y_train.reshape(-1, 1).flatten()\n",
    "\n",
    "X_test = test_data.iloc[:, :-1].values  # All columns except the last (inputs)\n",
    "y_test = test_data.iloc[:, -1].values  # Last column (output)\n",
    "y_test = y_test.reshape(-1, 1).flatten()"
   ],
   "id": "8ae95e0f8f283e86",
   "outputs": [],
   "execution_count": 1
  },
  {
   "metadata": {},
   "cell_type": "markdown",
   "source": [
    "# Step 2: Implement and train BP-based Neural Network\n",
    "\n",
    "Now we will use the `NeuralNet` implementation with varying hyperparameters, to see which combination performs better."
   ],
   "id": "5914fd9eeae37402"
  },
  {
   "metadata": {
    "ExecuteTime": {
     "end_time": "2024-12-08T19:59:56.137979Z",
     "start_time": "2024-12-08T19:54:37.243270Z"
    }
   },
   "cell_type": "code",
   "source": [
    "from NeuralNet import NeuralNet\n",
    "\n",
    "# Define hyperparameter combinations\n",
    "param_grid = [\n",
    "    {'layers': [16, 9, 1], 'epochs': 50, 'lr': 0.01, 'momentum': 0.9, 'activation': 'sigmoid'},\n",
    "    {'layers': [16, 12, 6, 1], 'epochs': 80, 'lr': 0.02, 'momentum': 0.8, 'activation': 'relu'},\n",
    "    {'layers': [16, 9, 5, 1], 'epochs': 100, 'lr': 0.01, 'momentum': 0.5, 'activation': 'tanh'},\n",
    "    # TODO: Add more hyperparameter combinations\n",
    "]\n",
    "\n",
    "results = []\n",
    "\n",
    "for params in param_grid:\n",
    "    model = NeuralNet(\n",
    "        layers=params['layers'],\n",
    "        epochs=params['epochs'],\n",
    "        lr=params['lr'],\n",
    "        momentum=params['momentum'],\n",
    "        activation=params['activation'],\n",
    "        validation_split=0.2\n",
    "    )\n",
    "\n",
    "    # Fit the model\n",
    "    model.fit(X_train, y_train)\n",
    "\n",
    "    # Evaluate on test set\n",
    "    y_test_pred = model.predict(X_test)\n",
    "\n",
    "    mse = np.mean((y_test - y_test_pred) ** 2)  # Mean Squared Error\n",
    "    mae = np.mean(np.abs(y_test - y_test_pred))  # Mean Absolute Error\n",
    "    mape = np.mean(np.abs((y_test - y_test_pred) / y_test)) * 100  # Mean Absolute Percentage Error\n",
    "\n",
    "    # Record results\n",
    "    results.append({\n",
    "        'Number of layers': len(params['layers']),\n",
    "        'Layer structure': params['layers'],\n",
    "        'Num epochs': params['epochs'],\n",
    "        'Learning rate': params['lr'],\n",
    "        'Momentum': params['momentum'],\n",
    "        'Activation function': params['activation'],\n",
    "        'MSE': mse,\n",
    "        'MAE': mae,\n",
    "        'MAPE': mape,\n",
    "    })\n",
    "\n",
    "results_df = pd.DataFrame(results)\n",
    "print(results_df)"
   ],
   "id": "490adf61d0939fc",
   "outputs": [
    {
     "ename": "KeyboardInterrupt",
     "evalue": "",
     "output_type": "error",
     "traceback": [
      "\u001B[1;31m---------------------------------------------------------------------------\u001B[0m",
      "\u001B[1;31mKeyboardInterrupt\u001B[0m                         Traceback (most recent call last)",
      "Cell \u001B[1;32mIn[7], line 24\u001B[0m\n\u001B[0;32m     14\u001B[0m model \u001B[38;5;241m=\u001B[39m NeuralNet(\n\u001B[0;32m     15\u001B[0m     layers\u001B[38;5;241m=\u001B[39mparams[\u001B[38;5;124m'\u001B[39m\u001B[38;5;124mlayers\u001B[39m\u001B[38;5;124m'\u001B[39m],\n\u001B[0;32m     16\u001B[0m     epochs\u001B[38;5;241m=\u001B[39mparams[\u001B[38;5;124m'\u001B[39m\u001B[38;5;124mepochs\u001B[39m\u001B[38;5;124m'\u001B[39m],\n\u001B[1;32m   (...)\u001B[0m\n\u001B[0;32m     20\u001B[0m     validation_split\u001B[38;5;241m=\u001B[39m\u001B[38;5;241m0.2\u001B[39m\n\u001B[0;32m     21\u001B[0m )\n\u001B[0;32m     23\u001B[0m \u001B[38;5;66;03m# Fit the model\u001B[39;00m\n\u001B[1;32m---> 24\u001B[0m \u001B[43mmodel\u001B[49m\u001B[38;5;241;43m.\u001B[39;49m\u001B[43mfit\u001B[49m\u001B[43m(\u001B[49m\u001B[43mX_train\u001B[49m\u001B[43m,\u001B[49m\u001B[43m \u001B[49m\u001B[43my_train\u001B[49m\u001B[43m)\u001B[49m\n\u001B[0;32m     26\u001B[0m \u001B[38;5;66;03m# Evaluate on test set\u001B[39;00m\n\u001B[0;32m     27\u001B[0m y_test_pred \u001B[38;5;241m=\u001B[39m model\u001B[38;5;241m.\u001B[39mpredict(X_test)\n",
      "File \u001B[1;32mD:\\repos\\MESIIA-NEC-Activity1\\NeuralNet.py:102\u001B[0m, in \u001B[0;36mNeuralNet.fit\u001B[1;34m(self, X, y)\u001B[0m\n\u001B[0;32m     99\u001B[0m X_shuffled, y_shuffled \u001B[38;5;241m=\u001B[39m X_train[indices], y_train[indices]\n\u001B[0;32m    101\u001B[0m \u001B[38;5;66;03m# Train on each pattern\u001B[39;00m\n\u001B[1;32m--> 102\u001B[0m \u001B[43m\u001B[49m\u001B[38;5;28;43;01mfor\u001B[39;49;00m\u001B[43m \u001B[49m\u001B[43mx_sample\u001B[49m\u001B[43m,\u001B[49m\u001B[43m \u001B[49m\u001B[43my_sample\u001B[49m\u001B[43m \u001B[49m\u001B[38;5;129;43;01min\u001B[39;49;00m\u001B[43m \u001B[49m\u001B[38;5;28;43mzip\u001B[39;49m\u001B[43m(\u001B[49m\u001B[43mX_shuffled\u001B[49m\u001B[43m,\u001B[49m\u001B[43m \u001B[49m\u001B[43my_shuffled\u001B[49m\u001B[43m)\u001B[49m\u001B[43m:\u001B[49m\n\u001B[0;32m    103\u001B[0m \u001B[43m    \u001B[49m\u001B[38;5;28;43mself\u001B[39;49m\u001B[38;5;241;43m.\u001B[39;49m\u001B[43mfeed_forward\u001B[49m\u001B[43m(\u001B[49m\u001B[43mx_sample\u001B[49m\u001B[43m)\u001B[49m\n\u001B[0;32m    104\u001B[0m \u001B[43m    \u001B[49m\u001B[38;5;28;43mself\u001B[39;49m\u001B[38;5;241;43m.\u001B[39;49m\u001B[43mback_propagate\u001B[49m\u001B[43m(\u001B[49m\u001B[43mx_sample\u001B[49m\u001B[43m,\u001B[49m\u001B[43m \u001B[49m\u001B[43my_sample\u001B[49m\u001B[43m)\u001B[49m\n",
      "File \u001B[1;32m_pydevd_bundle\\\\pydevd_cython_win32_312_64.pyx:1187\u001B[0m, in \u001B[0;36m_pydevd_bundle.pydevd_cython_win32_312_64.SafeCallWrapper.__call__\u001B[1;34m()\u001B[0m\n",
      "File \u001B[1;32m_pydevd_bundle\\\\pydevd_cython_win32_312_64.pyx:627\u001B[0m, in \u001B[0;36m_pydevd_bundle.pydevd_cython_win32_312_64.PyDBFrame.trace_dispatch\u001B[1;34m()\u001B[0m\n",
      "File \u001B[1;32m_pydevd_bundle\\\\pydevd_cython_win32_312_64.pyx:1103\u001B[0m, in \u001B[0;36m_pydevd_bundle.pydevd_cython_win32_312_64.PyDBFrame.trace_dispatch\u001B[1;34m()\u001B[0m\n",
      "File \u001B[1;32m_pydevd_bundle\\\\pydevd_cython_win32_312_64.pyx:1065\u001B[0m, in \u001B[0;36m_pydevd_bundle.pydevd_cython_win32_312_64.PyDBFrame.trace_dispatch\u001B[1;34m()\u001B[0m\n",
      "File \u001B[1;32m_pydevd_bundle\\\\pydevd_cython_win32_312_64.pyx:585\u001B[0m, in \u001B[0;36m_pydevd_bundle.pydevd_cython_win32_312_64.PyDBFrame.do_wait_suspend\u001B[1;34m()\u001B[0m\n",
      "File \u001B[1;32m~\\AppData\\Local\\Programs\\PyCharm Professional\\plugins\\python-ce\\helpers\\pydev\\pydevd.py:1220\u001B[0m, in \u001B[0;36mPyDB.do_wait_suspend\u001B[1;34m(self, thread, frame, event, arg, send_suspend_message, is_unhandled_exception)\u001B[0m\n\u001B[0;32m   1217\u001B[0m         from_this_thread\u001B[38;5;241m.\u001B[39mappend(frame_id)\n\u001B[0;32m   1219\u001B[0m \u001B[38;5;28;01mwith\u001B[39;00m \u001B[38;5;28mself\u001B[39m\u001B[38;5;241m.\u001B[39m_threads_suspended_single_notification\u001B[38;5;241m.\u001B[39mnotify_thread_suspended(thread_id, stop_reason):\n\u001B[1;32m-> 1220\u001B[0m     \u001B[38;5;28;43mself\u001B[39;49m\u001B[38;5;241;43m.\u001B[39;49m\u001B[43m_do_wait_suspend\u001B[49m\u001B[43m(\u001B[49m\u001B[43mthread\u001B[49m\u001B[43m,\u001B[49m\u001B[43m \u001B[49m\u001B[43mframe\u001B[49m\u001B[43m,\u001B[49m\u001B[43m \u001B[49m\u001B[43mevent\u001B[49m\u001B[43m,\u001B[49m\u001B[43m \u001B[49m\u001B[43marg\u001B[49m\u001B[43m,\u001B[49m\u001B[43m \u001B[49m\u001B[43msuspend_type\u001B[49m\u001B[43m,\u001B[49m\u001B[43m \u001B[49m\u001B[43mfrom_this_thread\u001B[49m\u001B[43m)\u001B[49m\n",
      "File \u001B[1;32m~\\AppData\\Local\\Programs\\PyCharm Professional\\plugins\\python-ce\\helpers\\pydev\\pydevd.py:1235\u001B[0m, in \u001B[0;36mPyDB._do_wait_suspend\u001B[1;34m(self, thread, frame, event, arg, suspend_type, from_this_thread)\u001B[0m\n\u001B[0;32m   1232\u001B[0m             \u001B[38;5;28mself\u001B[39m\u001B[38;5;241m.\u001B[39m_call_mpl_hook()\n\u001B[0;32m   1234\u001B[0m         \u001B[38;5;28mself\u001B[39m\u001B[38;5;241m.\u001B[39mprocess_internal_commands()\n\u001B[1;32m-> 1235\u001B[0m         \u001B[43mtime\u001B[49m\u001B[38;5;241;43m.\u001B[39;49m\u001B[43msleep\u001B[49m\u001B[43m(\u001B[49m\u001B[38;5;241;43m0.01\u001B[39;49m\u001B[43m)\u001B[49m\n\u001B[0;32m   1237\u001B[0m \u001B[38;5;28mself\u001B[39m\u001B[38;5;241m.\u001B[39mcancel_async_evaluation(get_current_thread_id(thread), \u001B[38;5;28mstr\u001B[39m(\u001B[38;5;28mid\u001B[39m(frame)))\n\u001B[0;32m   1239\u001B[0m \u001B[38;5;66;03m# process any stepping instructions\u001B[39;00m\n",
      "\u001B[1;31mKeyboardInterrupt\u001B[0m: "
     ]
    }
   ],
   "execution_count": 7
  }
 ],
 "metadata": {
  "kernelspec": {
   "display_name": "Python 3",
   "language": "python",
   "name": "python3"
  },
  "language_info": {
   "codemirror_mode": {
    "name": "ipython",
    "version": 2
   },
   "file_extension": ".py",
   "mimetype": "text/x-python",
   "name": "python",
   "nbconvert_exporter": "python",
   "pygments_lexer": "ipython2",
   "version": "2.7.6"
  }
 },
 "nbformat": 4,
 "nbformat_minor": 5
}
